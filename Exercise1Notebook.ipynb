{
 "cells": [
  {
   "cell_type": "markdown",
   "metadata": {},
   "source": [
    "# How does CDC48 control protein degradation?\n",
    "\n",
    "## A genetics/bioinformatics proposal"
   ]
  },
  {
   "cell_type": "markdown",
   "metadata": {
    "collapsed": true
   },
   "source": [
    "### Background:\n",
    "\n",
    "In a recent [Plant Journal paper](http://onlinelibrary.wiley.com/doi/10.1111/tpj.13251/full), I showed that in _Arabidopsis_, the gene _CDC48A_ facilitates the degradation of an immune receptor protein _SNC1_. However, we expect _CDC48A_ to have many other functions in the plant. Is the immune function specific to _SNC1_?"
   ]
  },
  {
   "cell_type": "markdown",
   "metadata": {},
   "source": []
  },
  {
   "cell_type": "code",
   "execution_count": null,
   "metadata": {
    "collapsed": true
   },
   "outputs": [],
   "source": []
  }
 ],
 "metadata": {
  "kernelspec": {
   "display_name": "Python 3",
   "language": "python",
   "name": "python3"
  },
  "language_info": {
   "codemirror_mode": {
    "name": "ipython",
    "version": 3
   },
   "file_extension": ".py",
   "mimetype": "text/x-python",
   "name": "python",
   "nbconvert_exporter": "python",
   "pygments_lexer": "ipython3",
   "version": "3.5.1"
  }
 },
 "nbformat": 4,
 "nbformat_minor": 0
}
